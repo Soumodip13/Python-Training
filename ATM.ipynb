{
 "cells": [
  {
   "cell_type": "code",
   "execution_count": null,
   "metadata": {},
   "outputs": [],
   "source": [
    "class Atm:\n",
    "    pin=\"\"\n",
    "    balance=0\n",
    "    def createPin(self):\n",
    "        print(\"Hi Customer.Good Morning\")\n",
    "        self.pin=input(\"Enter a 4 digit number to create pin\")\n",
    "    def checkBalance(self):\n",
    "        user_pin=input(\"Enter your pin to proceed\")\n",
    "        if user_pin==self.pin:\n",
    "            print(\"Your current balance is\",self.balance)\n",
    "        else:\n",
    "            print(\"Pin is incorrect\")\n",
    "    def deposit(self):\n",
    "        user_pin=input(\"Enter your pin to proceed\")\n",
    "        if user_pin==self.pin:\n",
    "            deposit=int(input(\"Enter the amount to be deposited\"))\n",
    "            self.balance+=deposit\n",
    "            print(\"Deposit Successful\")\n",
    "        else:\n",
    "            print(\"Pin is incorrect\")\n",
    "    def withdraw(self): \n",
    "        user_pin=input(\"Enter your pin to proceed\")\n",
    "        if user_pin==self.pin:\n",
    "            withdraw=int(input(\"Enter the amount to be withdrawn\"))\n",
    "            if withdraw<=self.balance:\n",
    "                    self.balance=self.balance-withdraw\n",
    "                    print(\"withdrawal Successful\")\n",
    "            else:\n",
    "                print(\"Not enough balance\")\n",
    "        else:\n",
    "            print(\"Pin is incorrect\")\n",
    "    def changePin(self):\n",
    "        user_pin=input(\"Enter your pin to proceed\")\n",
    "        if user_pin==self.pin:\n",
    "            newpin=input(\"Enter new pin\")\n",
    "            if newpin!=self.pin:\n",
    "                self.pin=newpin\n",
    "                print(\"Your pin has been updated\")\n",
    "            else:\n",
    "                print(\"You have entered the same pin\")\n",
    "        else:\n",
    "            print(\"Pin is incorrect\")"
   ]
  },
  {
   "cell_type": "code",
   "execution_count": null,
   "metadata": {},
   "outputs": [],
   "source": []
  }
 ],
 "metadata": {
  "kernelspec": {
   "display_name": "Python 3",
   "language": "python",
   "name": "python3"
  },
  "language_info": {
   "codemirror_mode": {
    "name": "ipython",
    "version": 3
   },
   "file_extension": ".py",
   "mimetype": "text/x-python",
   "name": "python",
   "nbconvert_exporter": "python",
   "pygments_lexer": "ipython3",
   "version": "3.7.0"
  }
 },
 "nbformat": 4,
 "nbformat_minor": 2
}
