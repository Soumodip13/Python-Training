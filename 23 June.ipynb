{
 "cells": [
  {
   "cell_type": "code",
   "execution_count": 1,
   "metadata": {},
   "outputs": [
    {
     "data": {
      "text/plain": [
       "list"
      ]
     },
     "execution_count": 1,
     "metadata": {},
     "output_type": "execute_result"
    }
   ],
   "source": [
    "L=[1,2,3]\n",
    "type(L)"
   ]
  },
  {
   "cell_type": "code",
   "execution_count": 4,
   "metadata": {},
   "outputs": [
    {
     "name": "stdout",
     "output_type": "stream",
     "text": [
      "This is a  red car and the model is  Sports\n",
      "The avg speed is 60.0\n",
      "This is a  green car and the model is  base\n",
      "The avg speed is 1.0\n"
     ]
    }
   ],
   "source": [
    "class Car():\n",
    "    color=\"\"\n",
    "    model=\"\"\n",
    "    def showInfo(self,c,m):\n",
    "        self.color=c\n",
    "        self.model=m\n",
    "        print(\"This is a \",self.color,\"car and the model is \",self.model)\n",
    "    def calAvgSpeed(self,km,t):\n",
    "        print(\"The avg speed is\",km/t)\n",
    " \n",
    "\n",
    "\n",
    "audi=Car()\n",
    "audi.showInfo(\"red\",\"Sports\")\n",
    "audi.calAvgSpeed(300,5)\n",
    "        \n",
    "nano=Car()\n",
    "nano.showInfo(\"green\",\"base\")\n",
    "nano.calAvgSpeed(5,5)"
   ]
  }
 ],
 "metadata": {
  "kernelspec": {
   "display_name": "Python 3",
   "language": "python",
   "name": "python3"
  },
  "language_info": {
   "codemirror_mode": {
    "name": "ipython",
    "version": 3
   },
   "file_extension": ".py",
   "mimetype": "text/x-python",
   "name": "python",
   "nbconvert_exporter": "python",
   "pygments_lexer": "ipython3",
   "version": "3.7.0"
  }
 },
 "nbformat": 4,
 "nbformat_minor": 2
}
